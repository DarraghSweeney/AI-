{
  "nbformat": 4,
  "nbformat_minor": 0,
  "metadata": {
    "colab": {
      "provenance": [],
      "authorship_tag": "ABX9TyNvR0vRfPfZU1whPDg/ryUe",
      "include_colab_link": true
    },
    "kernelspec": {
      "name": "python3",
      "display_name": "Python 3"
    },
    "language_info": {
      "name": "python"
    }
  },
  "cells": [
    {
      "cell_type": "markdown",
      "metadata": {
        "id": "view-in-github",
        "colab_type": "text"
      },
      "source": [
        "<a href=\"https://colab.research.google.com/github/DarraghSweeney/AI-/blob/master/SearchTree.ipynb\" target=\"_parent\"><img src=\"https://colab.research.google.com/assets/colab-badge.svg\" alt=\"Open In Colab\"/></a>"
      ]
    },
    {
      "cell_type": "code",
      "execution_count": 110,
      "metadata": {
        "id": "DtNb4CKae-u8"
      },
      "outputs": [],
      "source": [
        "class CurrentBoard:\n",
        "  board = \"\"\n",
        "  def __init__(self,string_def = \" \"*9) :\n",
        "    self.board = string_def\n",
        "  def display(self) :\n",
        "      print(self.board[0] + \"|\" + self.board[1] + \"|\" + self.board[2])\n",
        "      print(\"-----\")\n",
        "      print(self.board[3] + \"|\" + self.board[4] + \"|\" + self.board[5])\n",
        "      print(\"-----\")\n",
        "      print(self.board[6] + \"|\" + self.board[7] + \"|\" + self.board[8])\n",
        "\n",
        "  def other(self,piece):\n",
        "    if piece == \"X\":\n",
        "      return \"O\"\n",
        "    return \"X\"\n",
        "\n",
        "  def Eq3(self,i1,i2,i3):\n",
        "    return self.board[i1] == self.board[i2] and self.board[i2] == self.board[i3]\n",
        "\n",
        "  def state_of_board(self):\n",
        "    if self.Eq3(0,1,2) or self.Eq3(0,3,6) or self.Eq3(0,4,8):\n",
        "      return self.board[0]\n",
        "    if self.Eq3(6,7,8) or self.Eq3(2,5,8):\n",
        "      return self.board[8]\n",
        "    if self.Eq3(3,4,5) or self.Eq3(1,4,7) or self.Eq3(2,4,6):\n",
        "      return self.board[4]\n",
        "\n",
        "    if \" \" in self.board:\n",
        "      return \"U\"\n",
        "    return \"D\"\n",
        "\n",
        "  def all_possible_moves(self, player_piece) :\n",
        "    possible_moves = []\n",
        "    for index in range(len(self.board)):\n",
        "      if self.board[index] == \" \":\n",
        "        possible_moves.append(CurrentBoard(self.board[:index] + player_piece + self.board[index+1:]))\n",
        "\n",
        "    return possible_moves"
      ]
    },
    {
      "cell_type": "code",
      "source": [
        "class SearchTreeNode:\n",
        "\n",
        "  def __init__(self,board_instance,playing_as):\n",
        "    self.children = []\n",
        "    self.current_board = board_instance\n",
        "    self.move_for = playing_as\n",
        "    self.generate_children()\n",
        "\n",
        "  def generate_children(self):\n",
        "    for board_for_next_move in self.current_board.all_possible_moves(self.move_for):\n",
        "     self.children.append(SearchTreeNode(board_for_next_move,self.current_board.other(self.move_for)))\n"
      ],
      "metadata": {
        "id": "MHIzDzXNrvoP"
      },
      "execution_count": 111,
      "outputs": []
    },
    {
      "cell_type": "code",
      "source": [
        "cb = CurrentBoard(\"OXOXXOOO \")"
      ],
      "metadata": {
        "id": "ftqkGpDnj9kt"
      },
      "execution_count": 120,
      "outputs": []
    },
    {
      "cell_type": "code",
      "source": [
        "len(cb.board)"
      ],
      "metadata": {
        "colab": {
          "base_uri": "https://localhost:8080/"
        },
        "id": "1rJvyXKIkAkl",
        "outputId": "83bd9632-262b-406b-d1a3-ca657dc9a8e4"
      },
      "execution_count": 121,
      "outputs": [
        {
          "output_type": "execute_result",
          "data": {
            "text/plain": [
              "9"
            ]
          },
          "metadata": {},
          "execution_count": 121
        }
      ]
    },
    {
      "cell_type": "code",
      "source": [
        "cb.state_of_board()"
      ],
      "metadata": {
        "colab": {
          "base_uri": "https://localhost:8080/",
          "height": 35
        },
        "id": "RkzbO9brkBM1",
        "outputId": "809de319-38a6-4ff2-ab71-d38198c05009"
      },
      "execution_count": 122,
      "outputs": [
        {
          "output_type": "execute_result",
          "data": {
            "text/plain": [
              "'U'"
            ],
            "application/vnd.google.colaboratory.intrinsic+json": {
              "type": "string"
            }
          },
          "metadata": {},
          "execution_count": 122
        }
      ]
    },
    {
      "cell_type": "code",
      "source": [
        "cb.display()"
      ],
      "metadata": {
        "colab": {
          "base_uri": "https://localhost:8080/"
        },
        "id": "nc7r3o2k2iZi",
        "outputId": "675f535b-dcdd-4c78-a2c9-4efd9d25db6e"
      },
      "execution_count": 123,
      "outputs": [
        {
          "output_type": "stream",
          "name": "stdout",
          "text": [
            "O|X|O\n",
            "-----\n",
            "X|X|O\n",
            "-----\n",
            "O|O| \n"
          ]
        }
      ]
    },
    {
      "cell_type": "code",
      "source": [
        "st = SearchTreeNode(cb,\"X\")"
      ],
      "metadata": {
        "id": "FljrxlgyqL1n"
      },
      "execution_count": 86,
      "outputs": []
    },
    {
      "cell_type": "code",
      "source": [
        "st.children"
      ],
      "metadata": {
        "colab": {
          "base_uri": "https://localhost:8080/"
        },
        "id": "OdskLAm7vln2",
        "outputId": "b23b3617-97ba-4e8e-f056-5ad9ed81b569"
      },
      "execution_count": 77,
      "outputs": [
        {
          "output_type": "execute_result",
          "data": {
            "text/plain": [
              "[<__main__.SearchTreeNode at 0x7ec7f69d79a0>,\n",
              " <__main__.SearchTreeNode at 0x7ec7f69d6da0>,\n",
              " <__main__.SearchTreeNode at 0x7ec7f37a9330>,\n",
              " <__main__.SearchTreeNode at 0x7ec7f059a650>,\n",
              " <__main__.SearchTreeNode at 0x7ec7ed388130>,\n",
              " <__main__.SearchTreeNode at 0x7ec7ea365ba0>,\n",
              " <__main__.SearchTreeNode at 0x7ec7e714f670>,\n",
              " <__main__.SearchTreeNode at 0x7ec7e3f41150>,\n",
              " <__main__.SearchTreeNode at 0x7ec7e0d2ac20>]"
            ]
          },
          "metadata": {},
          "execution_count": 77
        }
      ]
    },
    {
      "cell_type": "code",
      "source": [],
      "metadata": {
        "id": "9qG8iOPAvv_f"
      },
      "execution_count": null,
      "outputs": []
    }
  ]
}