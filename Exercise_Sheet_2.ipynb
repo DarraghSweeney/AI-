{
  "nbformat": 4,
  "nbformat_minor": 0,
  "metadata": {
    "colab": {
      "provenance": []
    },
    "kernelspec": {
      "name": "python3",
      "display_name": "Python 3"
    },
    "language_info": {
      "name": "python"
    }
  },
  "cells": [
    {
      "cell_type": "markdown",
      "source": [
        "# Selection Problems Genetic Algorithms\n",
        "\n",
        "In this exercise sheet we explore the use of genetic algorithms to solve selection type problems.\n",
        "\n",
        "Each object in a list of object will either be selected or not..\n",
        "\n",
        "The individuals in the genetic algorithm for these problems will be a selection of these objects, where the chromosome could be a list of 1 (i.e. True) or 0 (i.e. False).\n",
        "\n",
        "But, to save memory, we will have a chromosome of True or False entries rather than the number 1 or 0.\n",
        "\n",
        "**Exercise 1**  Why does this save memory? If we wished to use 0's and 1's how would these be stored?"
      ],
      "metadata": {
        "id": "wJlxCLtG-Txb"
      }
    },
    {
      "cell_type": "code",
      "execution_count": 65,
      "metadata": {
        "id": "mI4OOXV_-OAc"
      },
      "outputs": [],
      "source": [
        "import numpy as np\n",
        "import copy as deepcopy"
      ]
    },
    {
      "cell_type": "code",
      "source": [
        "help(np.random.choice)"
      ],
      "metadata": {
        "id": "gp8N96UsBzhb"
      },
      "execution_count": null,
      "outputs": []
    },
    {
      "cell_type": "code",
      "source": [
        "np.random.choice([True,False],1000)"
      ],
      "metadata": {
        "id": "m94G7-52lujn"
      },
      "execution_count": null,
      "outputs": []
    },
    {
      "cell_type": "markdown",
      "source": [
        "**Exercise 2**  Use np.random.choice to create an array of size 1000 of True or False values\n",
        "\n",
        "**Exercise 3**  Incorporate into the problem and individual class shells' below\n"
      ],
      "metadata": {
        "id": "sBjj6sTHCbdt"
      }
    },
    {
      "cell_type": "code",
      "source": [
        "class problem:\n",
        "  def __init__(self):\n",
        "    self.number_of_genes = 1000\n",
        "    self.cost_function = None\n",
        "\n",
        "\n",
        "\n",
        "\n",
        "class individual:\n",
        "  # This class defines the individual for the genetic algorithm. We hope to find the individual which solves our problem\n",
        "  chromosone = None\n",
        "\n",
        "  def __init__(self, prob):    #  This is the constructor for the individual and as such needs the problem to mould the individuals to it\n",
        "    #Create a random individual.\n",
        "    self.chromosone =np.random.choice([True,False],prob.number_of_genes)\n",
        "\n",
        "\n",
        "  def crossover(self,other_parent):\n",
        "    return []\n",
        "\n",
        "  def mutate(self,mutation_rate):\n",
        "        for index in range(len(self.chromosome)):\n",
        "          if  np.random.uniform() < mutation_rate:\n",
        "            self.chromosome[index] = !self.chromosome[index]\n",
        "\n"
      ],
      "metadata": {
        "collapsed": true,
        "id": "uCh1GR5VB6bD"
      },
      "execution_count": 68,
      "outputs": []
    },
    {
      "cell_type": "code",
      "source": [
        "p = problem()"
      ],
      "metadata": {
        "id": "Y6qSkKzAoWhG"
      },
      "execution_count": 9,
      "outputs": []
    },
    {
      "cell_type": "code",
      "source": [
        "p.number_of_genes = 1000"
      ],
      "metadata": {
        "id": "eNLR7d4BoqzI"
      },
      "execution_count": 39,
      "outputs": []
    },
    {
      "cell_type": "code",
      "source": [
        "ind1 = individual(p)"
      ],
      "metadata": {
        "id": "5OOkgqwzoaw4"
      },
      "execution_count": 40,
      "outputs": []
    },
    {
      "cell_type": "code",
      "source": [
        "ind1.chromosone"
      ],
      "metadata": {
        "id": "M9GXbvA0omLo"
      },
      "execution_count": null,
      "outputs": []
    },
    {
      "cell_type": "markdown",
      "source": [
        "**Exercise 4**  Use np.random.uniform to create an array of 1000 floating point values between 1 and 10, and store in the variable **weights**\n",
        "\n",
        "**Exercise 5**  How would you find the total weight of an individuals selection?\n"
      ],
      "metadata": {
        "id": "Uzye1BfGIrOi"
      }
    },
    {
      "cell_type": "code",
      "source": [
        "weights = []\n",
        "\n",
        "for i in range(p.number_of_genes):\n",
        "  x = np.random.uniform(0,10)\n",
        "  weights.append(x)"
      ],
      "metadata": {
        "id": "jFo9BLvCTobD"
      },
      "execution_count": 69,
      "outputs": []
    },
    {
      "cell_type": "code",
      "source": [
        "# Initialize an empty list to store selected values\n",
        "selected_Item_Weights = []\n",
        "\n",
        "# Iterate through ind1_chromosome and select values from weights where True\n",
        "for i in range(len(ind1.chromosone)):\n",
        "    if ind1.chromosone[i]:\n",
        "        selected_Item_Weights.append(weights[i])\n"
      ],
      "metadata": {
        "id": "0EBjG6GrIqTa"
      },
      "execution_count": 70,
      "outputs": []
    },
    {
      "cell_type": "markdown",
      "source": [
        "**Exercise 6**  Use np.random.randint to create an array of 1000 integer values between 0 and 50, and store in the variable **values**\n",
        "\n",
        "**Exercise 7**  How would you find the total value of an individuals selection?\n",
        "\n",
        "**Exercise 8**   What is the total weight and value of all items?"
      ],
      "metadata": {
        "id": "iJt94QdfKwXJ"
      }
    },
    {
      "cell_type": "code",
      "source": [
        "values = []\n",
        "\n",
        "for i in range(p.number_of_genes):\n",
        "  x = np.random.randint(0,50)\n",
        "  values.append(x)"
      ],
      "metadata": {
        "id": "1yQxY2tcKvt6"
      },
      "execution_count": 48,
      "outputs": []
    },
    {
      "cell_type": "code",
      "source": [
        "selected_Item_Values = []\n",
        "\n",
        "for i in range(len(ind1.chromosone)):\n",
        "    if ind1.chromosone[i]:\n",
        "        selected_Item_Values.append(values[i])\n",
        "\n",
        "print(sum(selected_Item_Weights))\n",
        "print(sum(selected_Item_Values))"
      ],
      "metadata": {
        "colab": {
          "base_uri": "https://localhost:8080/"
        },
        "id": "uEHAZOMlVkV1",
        "outputId": "c4a3c54e-7d85-4dd8-e91b-182217870914"
      },
      "execution_count": 60,
      "outputs": [
        {
          "output_type": "stream",
          "name": "stdout",
          "text": [
            "2636.6286076473343\n",
            "12944\n"
          ]
        }
      ]
    },
    {
      "cell_type": "code",
      "source": [
        "for i in range(len(selected_Item_Weights)):\n",
        "  print(\"Item \" + str(i) + \" weight is \" + str(selected_Item_Weights[i]))\n",
        "  print(\"and its value is \" + str(selected_Item_Values[i]))"
      ],
      "metadata": {
        "id": "TdokuvccWFMd"
      },
      "execution_count": null,
      "outputs": []
    },
    {
      "cell_type": "markdown",
      "source": [
        "**Exercise 9**  Implement the mutate method for this. Is there any other way mutation could be done for these types of problems?"
      ],
      "metadata": {
        "id": "qtQn4Z6z3lMk"
      }
    },
    {
      "cell_type": "code",
      "source": [],
      "metadata": {
        "id": "6d4JXiNqIlba"
      },
      "execution_count": 63,
      "outputs": []
    },
    {
      "cell_type": "markdown",
      "source": [
        "**Exercise 10**  Implement the crossover method with 1 crossover point.  With more than 1 crossover point?\n"
      ],
      "metadata": {
        "id": "fFxCoOCC4Kv_"
      }
    },
    {
      "cell_type": "code",
      "source": [],
      "metadata": {
        "id": "5xreSe884Jq-"
      },
      "execution_count": null,
      "outputs": []
    },
    {
      "cell_type": "markdown",
      "source": [
        "**Exercise 11**  Use the run_genetic algorithm to find the most valuable selection of items with a combined weight of less than 60."
      ],
      "metadata": {
        "id": "xZx7xKvo4f0n"
      }
    },
    {
      "cell_type": "code",
      "source": [],
      "metadata": {
        "id": "vWsf4ae3C1t2"
      },
      "execution_count": null,
      "outputs": []
    }
  ]
}