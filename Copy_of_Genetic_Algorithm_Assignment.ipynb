{
  "nbformat": 4,
  "nbformat_minor": 0,
  "metadata": {
    "colab": {
      "provenance": [],
      "include_colab_link": true
    },
    "kernelspec": {
      "name": "python3",
      "display_name": "Python 3"
    },
    "language_info": {
      "name": "python"
    }
  },
  "cells": [
    {
      "cell_type": "markdown",
      "metadata": {
        "id": "view-in-github",
        "colab_type": "text"
      },
      "source": [
        "<a href=\"https://colab.research.google.com/github/DarraghSweeney/AI-/blob/master/Copy_of_Genetic_Algorithm_Assignment.ipynb\" target=\"_parent\"><img src=\"https://colab.research.google.com/assets/colab-badge.svg\" alt=\"Open In Colab\"/></a>"
      ]
    },
    {
      "cell_type": "markdown",
      "source": [
        "# Genetic Algorithm Assignment\n",
        "30% of the overall grade for this module\n",
        "\n",
        "Marks indciated in sections below are based on percentage of marks allocated for this module\n",
        "\n",
        "In this assignment you must choose a problem, and attempt to use the Genetic Alogrithm that we developed in class to solve this problem.\n",
        "\n",
        "\n",
        "\n"
      ],
      "metadata": {
        "id": "UuU23he_msf6"
      }
    },
    {
      "cell_type": "markdown",
      "source": [
        "## The Problem         **(~30%)**\n",
        "\n",
        "*   Description of the problem\n",
        "\n",
        "\n",
        "\n"
      ],
      "metadata": {
        "id": "xOpdeYD9oLWi"
      }
    },
    {
      "cell_type": "markdown",
      "source": [
        "---\n",
        "\n",
        "Sudoku is a popular logic-based number-placement puzzle. The objective of Sudoku is to fill a 9x9 grid with digits so that each column, each row, and each of the nine 3x3 subgrids (also known as regions or boxes) contains all of the digits from 1 to 9. The puzzle starts with some cells already filled with numbers, and the solver's task is to complete the grid following the rules.\n",
        "\n",
        "Here are the basic rules of Sudoku:\n",
        "\n",
        "Each row must contain the digits 1 through 9 with no repetition.\n",
        "Each column must also contain the digits 1 through 9 with no repetition.\n",
        "Each 3x3 subgrid must contain the digits 1 through 9 with no repetition.\n",
        "\n",
        "---\n",
        "\n"
      ],
      "metadata": {
        "id": "4uQ4i7aopwP0"
      }
    },
    {
      "cell_type": "markdown",
      "source": [
        "*   Discussion of the suitablity of Genetic Algorithms\n"
      ],
      "metadata": {
        "id": "rWvzNi3uqCKy"
      }
    },
    {
      "cell_type": "markdown",
      "source": [
        "---\n",
        "\n",
        "A genetic algorithm would be highly suitable for this type of problem as a well implemented algorithm will be able to learn patterns such as the 1-9 with no repeating numbers pattern that sudoku requires. Through the iteration of multiple generations of the algorithm and with the assitance of a good cost function to score the algorithms behaviour, the algorithm should be able to solve sudoku with ease.\n",
        "\n",
        "---\n",
        "\n"
      ],
      "metadata": {
        "id": "aMzEaqZAqmYT"
      }
    },
    {
      "cell_type": "markdown",
      "source": [
        "*   Complexity of the problem  (Overall marks allocated based on ..)"
      ],
      "metadata": {
        "id": "1c4zr525qHk0"
      }
    },
    {
      "cell_type": "markdown",
      "source": [
        "# The problem and the cost function   **(~20%)**"
      ],
      "metadata": {
        "id": "0LgfBTtdq11F"
      }
    },
    {
      "cell_type": "code",
      "source": [
        "import numpy as np\n",
        "from copy import deepcopy\n",
        "\n",
        "class problem:\n",
        "    def __init__(self):\n",
        "      self.BoardSize = 9\n",
        "      self.GridSize = 3\n",
        "      self.MinMax = set(range(1,10))\n",
        "      self.Cost = CostFunction\n",
        "\n",
        "\n",
        "    def CostFunction(self, sukoku):\n",
        "        # Cost function: count the number of non-unique (repeated) numbers in rows, columns, and subgrids\n",
        "        sudoku = np.array(sudoku)\n",
        "        total = 0\n",
        "        for i in range(9):\n",
        "            total += 18 - len(set(board[i, :])) - len(set(board[:, i]))\n",
        "        for row in range(0, 9, 3):\n",
        "            for col in range(0, 9, 3):\n",
        "                subgrid = board[row:row+3, col:col+3].flatten()\n",
        "                total += 9 - len(set(subgrid))\n",
        "\n",
        "        return total"
      ],
      "metadata": {
        "id": "rwIdSMNqrPS5"
      },
      "execution_count": null,
      "outputs": []
    },
    {
      "cell_type": "markdown",
      "source": [
        "# The Individual **(~30%)**\n",
        "\n",
        "\n",
        "*   Chromosone\n",
        "*   Crossover\n",
        "*   Mutation\n",
        "\n"
      ],
      "metadata": {
        "id": "wBQQjO4brWFA"
      }
    },
    {
      "cell_type": "markdown",
      "source": [
        "## Discussion and justification on the approaches taken for the above"
      ],
      "metadata": {
        "id": "-Yr5xlW3rx21"
      }
    },
    {
      "cell_type": "markdown",
      "source": [
        "---\n",
        "\n",
        "(Double click then ...)  Type Here...\n",
        "\n",
        "---\n",
        "\n"
      ],
      "metadata": {
        "id": "-5eIa-LKsREQ"
      }
    },
    {
      "cell_type": "code",
      "execution_count": null,
      "metadata": {
        "id": "Hqtg_3MimjYL"
      },
      "outputs": [],
      "source": [
        "class   Individual:\n",
        "    def __init__(self, problem):\n",
        "        # Constructor for the individual\n",
        "        self.problem = problem\n",
        "        self.chromosome = problem.create_chromosome()\n",
        "        self.fitness = None\n",
        "\n",
        "    def CostFunction(self, sukoku):\n",
        "        # Cost function: count the number of non-unique (repeated) numbers in rows, columns, and subgrids\n",
        "        sudoku = np.array(sudoku)\n",
        "        total = 0\n",
        "        for i in range(9):\n",
        "            total += 18 - len(set(board[i, :])) - len(set(board[:, i]))\n",
        "        for row in range(0, 9, 3):\n",
        "            for col in range(0, 9, 3):\n",
        "                subgrid = board[row:row+3, col:col+3].flatten()\n",
        "                total += 9 - len(set(subgrid))\n",
        "\n",
        "        return total\n",
        "\n",
        "\n",
        "    def mutate(self, mutation_rate):\n",
        "        # Apply mutation to the individual's chromosome\n",
        "        self.problem.mutate(self.chromosome, mutation_rate)\n",
        "\n",
        "    def crossover(self, other_parent):\n",
        "        # Perform crossover between two parents to create a child individual\n",
        "        child_chromosome = self.problem.crossover(self.chromosome, other_parent.chromosome)\n",
        "        child = SudokuIndividual(self.problem)\n",
        "        child.chromosome = child_chromosome\n",
        "        return child\n"
      ]
    },
    {
      "cell_type": "markdown",
      "source": [
        "## Running the algorithm  **(~10%)**\n",
        "\n",
        "*   Parameter choices\n",
        "*   Modifications (if any) to run_genetic\n",
        "*   Rationale for the above\n",
        "\n"
      ],
      "metadata": {
        "id": "59WmNNhiscZ9"
      }
    },
    {
      "cell_type": "markdown",
      "source": [
        "---\n",
        "\n",
        "(Double click then ...)  Type Here...\n",
        "\n",
        "---\n",
        "\n"
      ],
      "metadata": {
        "id": "n8BK_jFwub_j"
      }
    },
    {
      "cell_type": "code",
      "source": [
        "class parameters:\n",
        "    def __init__(self):\n",
        "        self.population_size = 500\n",
        "        self.number_of_generations = 1000\n",
        "        self.mutation_rate = 0.03"
      ],
      "metadata": {
        "id": "qYE-UMBos_nR"
      },
      "execution_count": null,
      "outputs": []
    },
    {
      "cell_type": "code",
      "source": [
        "def run_genetic(sudoku_grid, params):\n",
        "    population = [Individual(sudoku_grid) for _ in range(params.population_size)]\n",
        "\n"
      ],
      "metadata": {
        "id": "uMURavCWtEan"
      },
      "execution_count": null,
      "outputs": []
    },
    {
      "cell_type": "code",
      "source": [
        "#  Running of the algorithm with outputs here"
      ],
      "metadata": {
        "id": "lzt2-_8HtJtr",
        "outputId": "50ab5997-e4c5-4860-8ff1-719a89bc6fd5",
        "colab": {
          "base_uri": "https://localhost:8080/",
          "height": 382
        }
      },
      "execution_count": null,
      "outputs": [
        {
          "output_type": "error",
          "ename": "AttributeError",
          "evalue": "'list' object has no attribute 'create_chromosome'",
          "traceback": [
            "\u001b[0;31m---------------------------------------------------------------------------\u001b[0m",
            "\u001b[0;31mAttributeError\u001b[0m                            Traceback (most recent call last)",
            "\u001b[0;32m<ipython-input-17-97c58e06a56f>\u001b[0m in \u001b[0;36m<cell line: 17>\u001b[0;34m()\u001b[0m\n\u001b[1;32m     15\u001b[0m \u001b[0;31m# Run the genetic algorithm\u001b[0m\u001b[0;34m\u001b[0m\u001b[0;34m\u001b[0m\u001b[0m\n\u001b[1;32m     16\u001b[0m \u001b[0mparams\u001b[0m \u001b[0;34m=\u001b[0m \u001b[0mparameters\u001b[0m\u001b[0;34m(\u001b[0m\u001b[0;34m)\u001b[0m\u001b[0;34m\u001b[0m\u001b[0;34m\u001b[0m\u001b[0m\n\u001b[0;32m---> 17\u001b[0;31m \u001b[0mbs\u001b[0m \u001b[0;34m=\u001b[0m \u001b[0mrun_genetic\u001b[0m\u001b[0;34m(\u001b[0m\u001b[0msudoku_grid\u001b[0m\u001b[0;34m,\u001b[0m \u001b[0mparams\u001b[0m\u001b[0;34m)\u001b[0m\u001b[0;34m\u001b[0m\u001b[0;34m\u001b[0m\u001b[0m\n\u001b[0m\u001b[1;32m     18\u001b[0m \u001b[0mprint\u001b[0m\u001b[0;34m(\u001b[0m\u001b[0mnp\u001b[0m\u001b[0;34m.\u001b[0m\u001b[0marray\u001b[0m\u001b[0;34m(\u001b[0m\u001b[0mbs\u001b[0m\u001b[0;34m)\u001b[0m\u001b[0;34m)\u001b[0m\u001b[0;34m\u001b[0m\u001b[0;34m\u001b[0m\u001b[0m\n",
            "\u001b[0;32m<ipython-input-16-da733c857c06>\u001b[0m in \u001b[0;36mrun_genetic\u001b[0;34m(sudoku_grid, params)\u001b[0m\n\u001b[1;32m      1\u001b[0m \u001b[0;32mdef\u001b[0m \u001b[0mrun_genetic\u001b[0m\u001b[0;34m(\u001b[0m\u001b[0msudoku_grid\u001b[0m\u001b[0;34m,\u001b[0m \u001b[0mparams\u001b[0m\u001b[0;34m)\u001b[0m\u001b[0;34m:\u001b[0m\u001b[0;34m\u001b[0m\u001b[0;34m\u001b[0m\u001b[0m\n\u001b[0;32m----> 2\u001b[0;31m     \u001b[0mpopulation\u001b[0m \u001b[0;34m=\u001b[0m \u001b[0;34m[\u001b[0m\u001b[0mIndividual\u001b[0m\u001b[0;34m(\u001b[0m\u001b[0msudoku_grid\u001b[0m\u001b[0;34m)\u001b[0m \u001b[0;32mfor\u001b[0m \u001b[0m_\u001b[0m \u001b[0;32min\u001b[0m \u001b[0mrange\u001b[0m\u001b[0;34m(\u001b[0m\u001b[0mparams\u001b[0m\u001b[0;34m.\u001b[0m\u001b[0mpopulation_size\u001b[0m\u001b[0;34m)\u001b[0m\u001b[0;34m]\u001b[0m\u001b[0;34m\u001b[0m\u001b[0;34m\u001b[0m\u001b[0m\n\u001b[0m\u001b[1;32m      3\u001b[0m \u001b[0;34m\u001b[0m\u001b[0m\n\u001b[1;32m      4\u001b[0m     \u001b[0;32mfor\u001b[0m \u001b[0mgeneration\u001b[0m \u001b[0;32min\u001b[0m \u001b[0mrange\u001b[0m\u001b[0;34m(\u001b[0m\u001b[0mparams\u001b[0m\u001b[0;34m.\u001b[0m\u001b[0mnumber_of_generations\u001b[0m\u001b[0;34m)\u001b[0m\u001b[0;34m:\u001b[0m\u001b[0;34m\u001b[0m\u001b[0;34m\u001b[0m\u001b[0m\n\u001b[1;32m      5\u001b[0m         \u001b[0mpopulation\u001b[0m\u001b[0;34m.\u001b[0m\u001b[0msort\u001b[0m\u001b[0;34m(\u001b[0m\u001b[0mkey\u001b[0m \u001b[0;34m=\u001b[0m \u001b[0;32mlambda\u001b[0m \u001b[0mx\u001b[0m\u001b[0;34m:\u001b[0m \u001b[0mx\u001b[0m\u001b[0;34m.\u001b[0m\u001b[0mcost\u001b[0m\u001b[0;34m,\u001b[0m \u001b[0mreverse\u001b[0m \u001b[0;34m=\u001b[0m \u001b[0;32mTrue\u001b[0m\u001b[0;34m)\u001b[0m\u001b[0;34m\u001b[0m\u001b[0;34m\u001b[0m\u001b[0m\n",
            "\u001b[0;32m<ipython-input-16-da733c857c06>\u001b[0m in \u001b[0;36m<listcomp>\u001b[0;34m(.0)\u001b[0m\n\u001b[1;32m      1\u001b[0m \u001b[0;32mdef\u001b[0m \u001b[0mrun_genetic\u001b[0m\u001b[0;34m(\u001b[0m\u001b[0msudoku_grid\u001b[0m\u001b[0;34m,\u001b[0m \u001b[0mparams\u001b[0m\u001b[0;34m)\u001b[0m\u001b[0;34m:\u001b[0m\u001b[0;34m\u001b[0m\u001b[0;34m\u001b[0m\u001b[0m\n\u001b[0;32m----> 2\u001b[0;31m     \u001b[0mpopulation\u001b[0m \u001b[0;34m=\u001b[0m \u001b[0;34m[\u001b[0m\u001b[0mIndividual\u001b[0m\u001b[0;34m(\u001b[0m\u001b[0msudoku_grid\u001b[0m\u001b[0;34m)\u001b[0m \u001b[0;32mfor\u001b[0m \u001b[0m_\u001b[0m \u001b[0;32min\u001b[0m \u001b[0mrange\u001b[0m\u001b[0;34m(\u001b[0m\u001b[0mparams\u001b[0m\u001b[0;34m.\u001b[0m\u001b[0mpopulation_size\u001b[0m\u001b[0;34m)\u001b[0m\u001b[0;34m]\u001b[0m\u001b[0;34m\u001b[0m\u001b[0;34m\u001b[0m\u001b[0m\n\u001b[0m\u001b[1;32m      3\u001b[0m \u001b[0;34m\u001b[0m\u001b[0m\n\u001b[1;32m      4\u001b[0m     \u001b[0;32mfor\u001b[0m \u001b[0mgeneration\u001b[0m \u001b[0;32min\u001b[0m \u001b[0mrange\u001b[0m\u001b[0;34m(\u001b[0m\u001b[0mparams\u001b[0m\u001b[0;34m.\u001b[0m\u001b[0mnumber_of_generations\u001b[0m\u001b[0;34m)\u001b[0m\u001b[0;34m:\u001b[0m\u001b[0;34m\u001b[0m\u001b[0;34m\u001b[0m\u001b[0m\n\u001b[1;32m      5\u001b[0m         \u001b[0mpopulation\u001b[0m\u001b[0;34m.\u001b[0m\u001b[0msort\u001b[0m\u001b[0;34m(\u001b[0m\u001b[0mkey\u001b[0m \u001b[0;34m=\u001b[0m \u001b[0;32mlambda\u001b[0m \u001b[0mx\u001b[0m\u001b[0;34m:\u001b[0m \u001b[0mx\u001b[0m\u001b[0;34m.\u001b[0m\u001b[0mcost\u001b[0m\u001b[0;34m,\u001b[0m \u001b[0mreverse\u001b[0m \u001b[0;34m=\u001b[0m \u001b[0;32mTrue\u001b[0m\u001b[0;34m)\u001b[0m\u001b[0;34m\u001b[0m\u001b[0;34m\u001b[0m\u001b[0m\n",
            "\u001b[0;32m<ipython-input-12-ba4932f4aa8a>\u001b[0m in \u001b[0;36m__init__\u001b[0;34m(self, problem)\u001b[0m\n\u001b[1;32m      3\u001b[0m         \u001b[0;31m# Constructor for the individual\u001b[0m\u001b[0;34m\u001b[0m\u001b[0;34m\u001b[0m\u001b[0m\n\u001b[1;32m      4\u001b[0m         \u001b[0mself\u001b[0m\u001b[0;34m.\u001b[0m\u001b[0mproblem\u001b[0m \u001b[0;34m=\u001b[0m \u001b[0mproblem\u001b[0m\u001b[0;34m\u001b[0m\u001b[0;34m\u001b[0m\u001b[0m\n\u001b[0;32m----> 5\u001b[0;31m         \u001b[0mself\u001b[0m\u001b[0;34m.\u001b[0m\u001b[0mchromosome\u001b[0m \u001b[0;34m=\u001b[0m \u001b[0mproblem\u001b[0m\u001b[0;34m.\u001b[0m\u001b[0mcreate_chromosome\u001b[0m\u001b[0;34m(\u001b[0m\u001b[0;34m)\u001b[0m\u001b[0;34m\u001b[0m\u001b[0;34m\u001b[0m\u001b[0m\n\u001b[0m\u001b[1;32m      6\u001b[0m         \u001b[0mself\u001b[0m\u001b[0;34m.\u001b[0m\u001b[0mfitness\u001b[0m \u001b[0;34m=\u001b[0m \u001b[0;32mNone\u001b[0m\u001b[0;34m\u001b[0m\u001b[0;34m\u001b[0m\u001b[0m\n\u001b[1;32m      7\u001b[0m \u001b[0;34m\u001b[0m\u001b[0m\n",
            "\u001b[0;31mAttributeError\u001b[0m: 'list' object has no attribute 'create_chromosome'"
          ]
        }
      ]
    },
    {
      "cell_type": "code",
      "source": [
        "#  If changes to params or reruns of iterations dont overwrite, create more cells and copy code down to show evolution of final solution"
      ],
      "metadata": {
        "id": "KUrAxEdDtTmf"
      },
      "execution_count": null,
      "outputs": []
    },
    {
      "cell_type": "markdown",
      "source": [
        "## Results and conclusions    **(~10%)**"
      ],
      "metadata": {
        "id": "Hupr4W2_tmZA"
      }
    },
    {
      "cell_type": "markdown",
      "source": [
        "---\n",
        "\n",
        "(Double click then ...)  Type Here...\n",
        "\n",
        "---\n",
        "\n"
      ],
      "metadata": {
        "id": "p0Yqo3GeuVtn"
      }
    }
  ]
}